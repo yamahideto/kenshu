{
  "nbformat": 4,
  "nbformat_minor": 0,
  "metadata": {
    "colab": {
      "name": "Basics_of_Python.ipynb",
      "provenance": [],
      "private_outputs": true,
      "include_colab_link": true
    },
    "kernelspec": {
      "display_name": "Python 3",
      "language": "python",
      "name": "python3"
    },
    "language_info": {
      "codemirror_mode": {
        "name": "ipython",
        "version": 3
      },
      "file_extension": ".py",
      "mimetype": "text/x-python",
      "name": "python",
      "nbconvert_exporter": "python",
      "pygments_lexer": "ipython3",
      "version": "3.7.2"
    }
  },
  "cells": [
    {
      "cell_type": "markdown",
      "metadata": {
        "id": "view-in-github",
        "colab_type": "text"
      },
      "source": [
        "<a href=\"https://colab.research.google.com/github/yamahideto/kenshu/blob/main/Basics_of_Python.ipynb\" target=\"_parent\"><img src=\"https://colab.research.google.com/assets/colab-badge.svg\" alt=\"Open In Colab\"/></a>"
      ]
    },
    {
      "cell_type": "code",
      "source": [
        "!pip3 install ColabTurtle -q\n",
        "from ColabTurtle.Turtle import *\n",
        "\n",
        "initializeTurtle(initial_speed=10)\n",
        "color('yellow')\n",
        "bgcolor('lightgray')\n",
        "\n",
        "min_length=15\n",
        "\n",
        "def draw_branch(l, w):\n",
        "    left(15)\n",
        "    draw_stick(l, w)\n",
        "    right(30)\n",
        "    draw_stick(l, w)\n",
        "    left(15)\n",
        "  \n",
        "def draw_stick(l, w):\n",
        "    width(w)\n",
        "    forward(l)\n",
        "    if min_length < l:\n",
        "        draw_branch(math.ceil(l*0.8), math.ceil(w*0.7))\n",
        "    backward(l)\n",
        "\n",
        "draw_branch(50, 9)"
      ],
      "metadata": {
        "id": "tQeD02U3KM6z"
      },
      "execution_count": null,
      "outputs": []
    },
    {
      "cell_type": "code",
      "source": [],
      "metadata": {
        "id": "ybOvRZPHno-F"
      },
      "execution_count": null,
      "outputs": []
    },
    {
      "metadata": {
        "id": "D3QflLv0qdiy"
      },
      "cell_type": "markdown",
      "source": [
        "オリジナルから一部改変  \n",
        "original: https://colab.research.google.com/github/chainer/tutorials/blob/master/ja/02_Basics_of_Python.ipynb#scrollTo=OuwnCcupv9cZ\n",
        "\n",
        "# はじめに\n",
        "\n",
        "プログラミングで大事になるのは検索能力（ググり力）なので覚えなくて大丈夫です！！！！  \n",
        "基本的な課題は日本語にも情報がありますが、英語で検索すると見つかりやすいことがあります  \n",
        "https://www.google.com/?hl=en&gl=us\n",
        "\n",
        "\n",
        "# Python 入門\n",
        "\n",
        "本章では、プログラミング言語 Python の基礎的な文法を学んでいきます。\n",
        "次章以降に登場するコードを理解するにあたって必要となる最低限の知識について、最短で習得するのが目標です。\n",
        "より正確かつ詳細な知識を確認したい場合には、[公式のチュートリアル](https://docs.python.jp/3/tutorial/index.html)などを参照してください。\n",
        "\n",
        "Pythonにはバージョンとして 2 系と 3 系の 2 つの系統があり、互換性のない部分もあります。\n",
        "本チュートリアルでは、3 系である **Python 3.6** 以上を前提とした解説を行っています。\n",
        "\n",
        "## Python の特徴\n",
        "\n",
        "プログラミング言語には、Python 以外にも C 言語や Java、Ruby、R のように様々なものがあります。それぞれの言語がすべての用途に適しているわけではなく、しばしば用途によって得手不得手があります。\n",
        "\n",
        "本チュートリアルでは基本的に Python というプログラミング言語を扱います。\n",
        "その理由は、Python はデータ解析・機械学習のためのライブラリが充実しており、データ解析や機械学習の分野で最もよく使われている言語だからです。\n",
        "また、Web アプリケーションフレームワークの開発も活発で、データ解析だけでなく Web サービス開発まで同じ言語で統一して行える点も魅力です。\n",
        "\n",
        "\n",
        "本チュートリアルのテーマである Chainer も Python 向けに開発されています。"
      ]
    },
    {
      "metadata": {
        "id": "unYvpNZCv9aF"
      },
      "cell_type": "markdown",
      "source": [
        "さらには、初学者にとっても学びやすい言語です。\n",
        "初学者がプログラミングを学び始めるときにつまづきがちな難しい概念が他の言語と比べ多くなく、入門しやすい言語といえます。\n",
        "\n",
        "まとめると、Python には\n",
        "\n",
        "- データ解析や機械学習によく使われている\n",
        "- Web アプリケーションの開発などでもよく使われている\n",
        "- 初学者がはじめやすい言語\n",
        "\n",
        "のような魅力があります。"
      ]
    },
    {
      "metadata": {
        "id": "jZNTuBQ54BSu"
      },
      "cell_type": "markdown",
      "source": [
        "### 文法とアルゴリズム\n",
        "\n",
        "プログラミングによってある特定の処理をコンピュータで自動化したい場合、**文法**と**アルゴリズム**の 2 つを理解しておく必要があります。\n",
        "\n",
        "プログラムでは、まずはじめにコンピュータに命令を伝えるためのルールとなる**文法**を覚える必要があります。\n",
        "文法を無視した記述があるプログラムは、実行した際にエラーとなり処理が停止します。そのため、文法はしっかりと理解しておく必要があります。\n",
        "\n",
        "ただし、文法さえ理解していれば十分かというとそうではありません。一般的に、初学者向けのプログラミングの参考書では、この文法だけを取り扱うことも多いのですが、コンピュータに処理を自動化させることが目的であれば、文法だけでなく**アルゴリズム**も理解する必要があります。アルゴリズムとは、どういう順番でどのような処理をしていくかの一連の手順をまとめたものです。\n",
        "\n",
        "この章では、Python の文法について紹介し、機械学習やディープラーニングで必要となるアルゴリズムについてはこれ以降の章で紹介します。\n",
        "\n",
        "ここでは以下 4 つの文法に主眼を置きながら説明していきます。\n",
        "\n",
        "- 変数\n",
        "- 制御構文\n",
        "- 関数\n",
        "- クラス"
      ]
    },
    {
      "metadata": {
        "id": "hO4YLiKjIfDi"
      },
      "cell_type": "markdown",
      "source": [
        "## 変数\n",
        "\n",
        "**変数 (variable)** とは、様々な値を格納することができる、**名前がついた入れ物**です。\n",
        "この変数に値を格納したり、更新したりすることで、計算結果を一時的に保持しておくことができます。\n",
        "\n",
        "### 代入と値の確認\n",
        "\n",
        "それでは、`a` という名前の変数に、`1` を**代入**してみましょう。"
      ]
    },
    {
      "metadata": {
        "id": "SjpDQJn-3Rct"
      },
      "cell_type": "code",
      "source": [
        "a = 1"
      ],
      "execution_count": null,
      "outputs": []
    },
    {
      "metadata": {
        "id": "aitz3Hri_a-n"
      },
      "cell_type": "markdown",
      "source": [
        "代入は `=` の記号を用います。\n",
        "数学的には `=` は等しいという意味を持ちますが、Python では**「左辺の変数に、右辺の値を代入する」**という意味になります。\n",
        "\n",
        "Jupyter Notebook 上では、変数名だけ、もしくは変数名を最後の行に記述したセルを実行すると、値を確認することができます。"
      ]
    },
    {
      "metadata": {
        "id": "6SbAfM5Rv9aM"
      },
      "cell_type": "code",
      "source": [
        "a"
      ],
      "execution_count": null,
      "outputs": []
    },
    {
      "metadata": {
        "id": "8b0i8oelv9aR"
      },
      "cell_type": "markdown",
      "source": [
        "このように、変数に格納されている値を確認することができました。\n",
        "また、値を確認するための他の方法として、`print()` と呼ばれる**関数 (function)** を使用することもできます。\n",
        "関数について詳しくは後述しますが、`print()` のように Python には予め多くの関数が定義されています。 そのような関数を**組み込み関数 (built-in function)** といいます。"
      ]
    },
    {
      "metadata": {
        "id": "oTHXMTjiv9aR"
      },
      "cell_type": "code",
      "source": [
        "print(a)"
      ],
      "execution_count": null,
      "outputs": []
    },
    {
      "metadata": {
        "id": "9yizNcBvv9aU"
      },
      "cell_type": "markdown",
      "source": [
        "変数名だけをセルに記入して実行する場合と`print()`を利用する場合の違いについては、後述します。"
      ]
    },
    {
      "metadata": {
        "id": "nGNlqHW_v9aV"
      },
      "cell_type": "markdown",
      "source": [
        "変数につける名前は、コードを書く人が自由に決めることができます。\n",
        "ただし、わかりやすい名前をつけることがとても大切です。\n",
        "例えば、人の名前を格納するための変数が `a` という変数名だと、それがどのような使われ方をするのかを容易に類推することができません。\n",
        "`name` という名前であれば、ひと目で見て何のための変数かが分かるようになります。\n",
        "これは、自分のコードを読む他人や、未来の自分にとってコードを理解するための大きな手がかりとなります。"
      ]
    },
    {
      "metadata": {
        "id": "BQhk7-XfDFhS"
      },
      "cell_type": "markdown",
      "source": [
        "### コメント\n",
        "\n",
        "Python では、`#` の後からその行の終わりまでに存在する全ての文字列は無視されます。\n",
        "この `#` の後ろに続く部分を**コメント (comment)**と呼び、すでに書かれたコードをコメントにすることを**コメントアウト (comment out)**と言います。\n",
        "コメントは、コード中に変数の意味や処理の意味をコードを読む人に伝えるためによく使われます。\n",
        "\n",
        "Jupyter Notebook のコードセルに書かれたコードを行ごとコメントアウトしたい場合は、その行を選択した状態で `Ctrl + /` を入力することで自動的に行の先頭に `#` 記号を挿入することができます。複数行を選択していれば、選択された複数の行が同時にコメントアウトされます。また、コメントアウトされている行を選択した状態で同じキー入力を送ると、コメントアウトが解除されます。これを**アンコメント (uncomment)**と呼ぶこともあります。\n",
        "\n",
        "下のセルを実行してみましょう。"
      ]
    },
    {
      "metadata": {
        "id": "YK_XjChXDXmH"
      },
      "cell_type": "code",
      "source": [
        "# この行及び下の行はコメントアウトされているため実行時に無視されます\n",
        "# print(a)"
      ],
      "execution_count": null,
      "outputs": []
    },
    {
      "metadata": {
        "id": "_xAqta5WIfGJ"
      },
      "cell_type": "markdown",
      "source": [
        "`print(a)` が書かれているにも関わらず、何も表示されませんでした。\n",
        "これは、`print(a)` 関数が書かれた行がコメントアウトされていたためです。"
      ]
    },
    {
      "metadata": {
        "id": "I_Z6hhts_v4c"
      },
      "cell_type": "markdown",
      "source": [
        "### 変数の型\n",
        "\n",
        "プログラミングで扱う値には種類があります。\n",
        "Python では、**整数 (integer)**、**実数 (real number)**、**文字列 (string)** などが代表的な値の種類です。\n",
        "それぞれの種類によって、コンピュータ内での取扱い方が異なり、この種類のことは一般に**型 (type)** と呼びます。\n",
        "\n",
        "例えば、整数、実数、そして文字列をそれぞれ別々の変数に代入するコードは以下のとおりです。"
      ]
    },
    {
      "metadata": {
        "id": "FChuhC8Jv9aa"
      },
      "cell_type": "code",
      "source": [
        "a = 1\n",
        "b = 1.2\n",
        "c = 'Python'"
      ],
      "execution_count": null,
      "outputs": []
    },
    {
      "metadata": {
        "id": "DwMajDvAv9ag"
      },
      "cell_type": "markdown",
      "source": [
        "コンピュータの中での取り扱い方は異なりますが、Python では**変数の型を自動的に決定する**ため、初めのうちはあまり気にする必要はありません。\n",
        "ただし、違う型同士の演算では場合によってエラーが発生するなどの問題が生じるため、簡単に型の特徴は把握しておく必要があります。\n",
        "\n",
        "まずは、上記の `a`, `b`, `c` の型を確認する方法を紹介します。\n",
        "型の確認は `type()` という組み込み関数を使用します。"
      ]
    },
    {
      "metadata": {
        "id": "RUflpSu6v9ag"
      },
      "cell_type": "code",
      "source": [
        "type(a)"
      ],
      "execution_count": null,
      "outputs": []
    },
    {
      "metadata": {
        "id": "YBtHAigUv9aj"
      },
      "cell_type": "code",
      "source": [
        "type(b)"
      ],
      "execution_count": null,
      "outputs": []
    },
    {
      "metadata": {
        "id": "6PaQmlMCv9an"
      },
      "cell_type": "code",
      "source": [
        "type(c)"
      ],
      "execution_count": null,
      "outputs": []
    },
    {
      "metadata": {
        "id": "gatuDQAyv9aq"
      },
      "cell_type": "markdown",
      "source": [
        "`a` は `int` という整数の型をもつ変数であり、`b` は `float` という実数の型をもつ変数です。\n",
        "この `float` という型の名前は、コンピュータ内で実数を扱うときの形式である**浮動小数点数 (floating-point number)** に由来しています。\n",
        "\n",
        "`c` は `str` という文字列の型をもつ変数であり、値を定義するにはシングルクォーテーション `' '` もしくはダブルクォーテーション `\" \"` で対象の文字列をくくる必要があります。"
      ]
    },
    {
      "cell_type": "code",
      "source": [
        "a + a  # int と int"
      ],
      "metadata": {
        "id": "MsblAns5Ieib"
      },
      "execution_count": null,
      "outputs": []
    },
    {
      "cell_type": "code",
      "source": [
        "a + b  # int と float"
      ],
      "metadata": {
        "id": "m3XWcDwgInW1"
      },
      "execution_count": null,
      "outputs": []
    },
    {
      "cell_type": "code",
      "source": [
        "a + c  # int と str"
      ],
      "metadata": {
        "id": "q1-lWqaLIodK"
      },
      "execution_count": null,
      "outputs": []
    },
    {
      "cell_type": "code",
      "source": [
        "c + 'Basics'  # str と str"
      ],
      "metadata": {
        "id": "xZQUrXGZJOxm"
      },
      "execution_count": null,
      "outputs": []
    },
    {
      "cell_type": "code",
      "source": [
        "1 + 2 - 3 * 4 / 5  # 四則演算"
      ],
      "metadata": {
        "id": "IycKEmnKJtMx"
      },
      "execution_count": null,
      "outputs": []
    },
    {
      "metadata": {
        "id": "VsBRE0Wyv9ca"
      },
      "cell_type": "markdown",
      "source": [
        "## 複合データ型\n",
        "\n",
        "これまでは `a = 1` のように 1 つの変数に 1 つの値を代入する場合を扱ってきましたが、複数の値をまとめて取り扱いたい場面もあります。\n",
        "Python では複数の変数や値をまとめて扱うのに便利な、以下の 3 つの複合データ型があります。\n",
        "\n",
        "- リスト (list)\n",
        "- タプル (tuple)\n",
        "- 辞書 (dictionary)"
      ]
    },
    {
      "metadata": {
        "id": "S1TLaajMDtmr"
      },
      "cell_type": "markdown",
      "source": [
        "### リスト\n",
        "\n",
        "複数の変数を `,` （カンマ）区切りで並べ、それらの全体を `[ ]` で囲んだものを **リスト (list)** と言います。\n",
        "リストに含まれる値を**要素**と呼び、整数の**インデックス** （要素番号）を使ってアクセスします。"
      ]
    },
    {
      "cell_type": "code",
      "source": [
        "# リスト型の変数を定義\n",
        "numbers = [4, 5, 6, 7]\n",
        "\n",
        "# 値の確認\n",
        "print(numbers)"
      ],
      "metadata": {
        "id": "MJ7ZYj82D-a1"
      },
      "execution_count": null,
      "outputs": []
    },
    {
      "cell_type": "code",
      "source": [
        "# 型の確認\n",
        "type(numbers)"
      ],
      "metadata": {
        "id": "HH3NT-y4EC4Z"
      },
      "execution_count": null,
      "outputs": []
    },
    {
      "metadata": {
        "id": "Rk_jY_TTIfGY"
      },
      "cell_type": "markdown",
      "source": [
        "`numbers` には 4 つの数値が入っており、**要素数** は 4 です。\n",
        "リストの要素数は、リストの**長さ (length)** とも呼ばれ、組み込み関数の `len()` を用いて取得することができます。\n",
        "`len()` はよく使う関数であるため、覚えておきましょう。"
      ]
    },
    {
      "cell_type": "code",
      "source": [
        "# 要素数の確認\n",
        "len(numbers)"
      ],
      "metadata": {
        "id": "DK6aH0AaoELi"
      },
      "execution_count": null,
      "outputs": []
    },
    {
      "metadata": {
        "id": "RiJeRUdrEEUq"
      },
      "cell_type": "markdown",
      "source": [
        "リストの各要素へアクセスする方法はいくつかあります。\n",
        "最も簡単な方法は `[]` を使ってアクセスしたい要素番号を指定して、リストから値を取り出したり、その位置の値を書き換えたりする方法です。\n",
        "ここで、注意が必要な点として、Python では先頭の要素のインデックス番号が `0` である点があります。\n",
        "インデックス番号 `1` は 2 番目の要素を指します。\n",
        "\n",
        "![slice](https://www.self-study-blog.com/wp-content/uploads/2020/10/python-str-slice-index-1024x576.jpg)\n",
        "https://www.self-study-blog.com/dokugaku/python-str-slice-index/\n"
      ]
    },
    {
      "metadata": {
        "id": "DeCsf_L1Em29"
      },
      "cell_type": "code",
      "source": [
        "# 先頭の要素にアクセス\n",
        "numbers[0]"
      ],
      "execution_count": null,
      "outputs": []
    },
    {
      "metadata": {
        "id": "ox-Ma4yv5xqO"
      },
      "cell_type": "code",
      "source": [
        "# 先頭から3番目の要素にアクセス\n",
        "numbers[2]"
      ],
      "execution_count": null,
      "outputs": []
    },
    {
      "metadata": {
        "id": "ve-ETFIrv9cg"
      },
      "cell_type": "code",
      "source": [
        "# 2 番目の要素を書き換え\n",
        "numbers[1] = 10"
      ],
      "execution_count": null,
      "outputs": []
    },
    {
      "metadata": {
        "id": "AXpG-tqNv9cg"
      },
      "cell_type": "code",
      "source": [
        "# 値の確認\n",
        "numbers"
      ],
      "execution_count": null,
      "outputs": []
    },
    {
      "metadata": {
        "id": "kOVYiVOwIfGW"
      },
      "cell_type": "markdown",
      "source": [
        "また、インデックスに負の値を指定すると、末尾からの位置となります。\n",
        "要素番号 `-1` で最後の要素を参照することができます。"
      ]
    },
    {
      "metadata": {
        "id": "WSaIdvb4IfGX"
      },
      "cell_type": "code",
      "source": [
        "# 末尾の要素にアクセス\n",
        "numbers[-1]"
      ],
      "execution_count": null,
      "outputs": []
    },
    {
      "metadata": {
        "id": "jP5fkl3V54WL"
      },
      "cell_type": "code",
      "source": [
        "# 末尾から3番目の要素にアクセス\n",
        "numbers[-3]"
      ],
      "execution_count": null,
      "outputs": []
    },
    {
      "metadata": {
        "id": "DLzLjTQ8EoG9"
      },
      "cell_type": "markdown",
      "source": [
        "次に、リストから一度に複数の要素を取り出す操作である**スライス (slice)** を紹介します。\n",
        "`開始位置:終了位置` のようにコロン `:` を用いてインデックスを範囲指定し、複数の部分要素にアクセスします。\n",
        "このスライスの処理は、この後の章でも多用するため、慣れておきましょう。\n",
        "\n",
        "例えば、先頭から 2 つの要素を取り出したい場合、以下のように指定します。"
      ]
    },
    {
      "metadata": {
        "id": "MPI2H38DEy2N"
      },
      "cell_type": "code",
      "source": [
        "numbers[0:2]"
      ],
      "execution_count": null,
      "outputs": []
    },
    {
      "metadata": {
        "id": "gK6_JXXTE2AY"
      },
      "cell_type": "markdown",
      "source": [
        "`開始位置:終了位置` と指定することで、開始位置から**終了位置のひとつ手前**までの要素を抽出します。 \n",
        "終了位置に指定したインデックスの値は含まれないことに注意してください。\n",
        "\n",
        "また、指定する開始番号が `0` である場合、以下のような略記がよく用いられます。"
      ]
    },
    {
      "metadata": {
        "id": "hBo2_C5aFPHR"
      },
      "cell_type": "code",
      "source": [
        "numbers[:2]"
      ],
      "execution_count": null,
      "outputs": []
    },
    {
      "metadata": {
        "id": "Qqem8sujFQVP"
      },
      "cell_type": "markdown",
      "source": [
        "このように、先頭のインデックスは省略することができます。\n",
        "このような記法を使う場合は、終了位置を示す数字を**取り出したい要素の個数**と捉えて、**先頭から 2 つを取り出す**操作だと考えると分かりやすくなります。\n",
        "\n",
        "同様に、ある位置からリストの末尾までを取り出す場合も、終了位置のインデックスを省略することができます。\n",
        "例えば、2 個目の要素から最後までを取り出すには以下のようにします。"
      ]
    },
    {
      "metadata": {
        "id": "gItFJqoUFYzX"
      },
      "cell_type": "code",
      "source": [
        "numbers[1:]"
      ],
      "execution_count": null,
      "outputs": []
    },
    {
      "metadata": {
        "id": "RRlf3vqOv9cq"
      },
      "cell_type": "markdown",
      "source": [
        "この場合は、取り出される要素の個数は `len(numbers) - 1` 個となることに注意してください。\n",
        "\n",
        "以上から、`numbers[:2]` と `numbers[2:]` は、ちょうど 2 個目の要素を境に `numbers` の要素を 2 分割した前半部分と後半部分になっています。\n",
        "ここで、インデックスが 2 の要素自体は**後半部に含まれる**ということに注意してください。\n",
        "\n",
        "また、開始位置も終了位置も省略した場合は、すべての要素が選択されます。"
      ]
    },
    {
      "metadata": {
        "id": "5lYy-LP6F3wP"
      },
      "cell_type": "markdown",
      "source": [
        "リストを使う際に頻出する操作として、**リストへの値の追加**があります。\n",
        "リスト型には `append()` というメソッドが定義されており、これを用いてリストの末尾に新しい値を追加することができます。\n",
        "\n",
        "上記の `numbers` に値を追加してみましょう。"
      ]
    },
    {
      "metadata": {
        "id": "RmgtEN8Lv9cw"
      },
      "cell_type": "code",
      "source": [
        "# 末尾に 2.5 を追加\n",
        "numbers.append(2.5)\n",
        "numbers"
      ],
      "execution_count": null,
      "outputs": []
    },
    {
      "metadata": {
        "id": "y5dQJA57v9cz"
      },
      "cell_type": "markdown",
      "source": [
        "また、今後頻出する処理として、**空のリスト**を定義しておき、そこに後段の処理の中で適宜新たな要素を追加していくという使い方があります。"
      ]
    },
    {
      "metadata": {
        "id": "00AEmnpxGPky"
      },
      "cell_type": "code",
      "source": [
        "# 空のリストを定義\n",
        "array = []\n",
        "\n",
        "# 空のリストに要素を追加\n",
        "array.append('Chainer')\n",
        "array.append('チュートリアル')\n",
        "\n",
        "array"
      ],
      "execution_count": null,
      "outputs": []
    },
    {
      "metadata": {
        "id": "nV8Lp5jLNO66"
      },
      "cell_type": "markdown",
      "source": [
        "### 辞書\n",
        "\n",
        "リストやタプルでは、複数の値をまとめて扱うことができました。\n",
        "そこで、定期テストの結果をまとめることを考えてみましょう。\n",
        "\n",
        "例えば、数学 90 点、理科 75 点、英語 80 点だったという結果を `scores = [90, 75, 80]` とリストで表してみます。\n",
        "しかし、これでは**何番目がどの教科の点数に対応するか**、一見して分かりにくいと思われます。\n",
        "\n",
        "Python の `dict` 型は、**キー (key)** とそれに対応する**値 (value)** をセットにして格納することができる型であり、このようなときに便利です。\n",
        "\n",
        "リストやタプルでは、各要素にアクセスする際に整数のインデックスを用いていましたが、辞書ではキーでインデックス化されているため、整数や文字列など、色々なものを使って要素を指定することができます。\n",
        "\n",
        "辞書は `{}` を用いて定義し、要素にアクセスする際には、リストやタプルと同様に `[ ]` を使用し、`[ ]` の中にキーを指定して対応する値を取り出します。"
      ]
    },
    {
      "metadata": {
        "id": "NyxphI5fNMO8"
      },
      "cell_type": "code",
      "source": [
        "# 辞書を定義\n",
        "scores = {'Math': 90, 'Science': 75, 'English': 80 }\n",
        "scores"
      ],
      "execution_count": null,
      "outputs": []
    },
    {
      "metadata": {
        "id": "M-V2XOEdNu2a"
      },
      "cell_type": "code",
      "source": [
        "# key が Math の value にアクセス\n",
        "scores['Math'] "
      ],
      "execution_count": null,
      "outputs": []
    },
    {
      "metadata": {
        "id": "oELnTpERNwCQ"
      },
      "cell_type": "markdown",
      "source": [
        "### 繰り返し（for 文）\n",
        "\n",
        "同じ内容のメールを宛名だけ個別に変えて、1000 人に一斉送信したい場合など、繰り返す処理を記述する制御構文である `for` を使います。\n",
        "\n",
        "![for文](https://github.com/chainer/tutorials/blob/master/ja/images/02/02_06.png?raw=1)"
      ]
    },
    {
      "metadata": {
        "id": "_-50XwKOv9dJ"
      },
      "cell_type": "markdown",
      "source": [
        "`for` 文の文法は上図のとおりです。\n",
        "\n",
        "**イテラブルオブジェクト (iterable object)** とは、反復可能オブジェクトのことであり、要素を一度に 1 つずつ返せるオブジェクトのことを指します。\n",
        "`range()` という組み込み関数を使うと、引数に与えた整数の回数だけ順番に整数を返すイテラブルオブジェクトを作ることができます。\n",
        "`range(5)` と書くと、0, 1, 2, 3, 4 という整数 5 つを順番に返すイテラブルオブジェクトになります。\n",
        "\n",
        "後述しますが、このイテラブルオブジェクトとして、リストやタプルも指定することができます。"
      ]
    },
    {
      "metadata": {
        "id": "f7Y4APgkON_7"
      },
      "cell_type": "code",
      "source": [
        "# 5回繰り返す\n",
        "for i in range(5):\n",
        "    print(i)"
      ],
      "execution_count": null,
      "outputs": []
    },
    {
      "metadata": {
        "id": "oLpTgIv4OPnt"
      },
      "cell_type": "markdown",
      "source": [
        "上記の例では、イテラブルオブジェクトが1 つずつ返す値を変数 `i` で受け取っています。\n",
        "最初は `i = 0` から始まっていることに注意してください。\n",
        "最後の値も、`5` ではなく `4` となっています。\n",
        "このように、`range()` に 1 つの整数を与えた場合は、その整数 - 1 まで 0 から 1 つずつ増えていく整数を順番に返します。"
      ]
    },
    {
      "metadata": {
        "id": "tEczQdb9v9dM"
      },
      "cell_type": "markdown",
      "source": [
        "for 文を使って、0 から始まって 1 ずつ大きくなっていく整数順番に取得し、これをリストのインデックスに利用すれば、リストの各要素に順番にアクセスすることができます。"
      ]
    },
    {
      "metadata": {
        "id": "b6XXuQ_gOnxk"
      },
      "cell_type": "code",
      "source": [
        "names = ['佐藤', '鈴木', '高橋']\n",
        "\n",
        "for i in range(3):\n",
        "    print(names[i])"
      ],
      "execution_count": null,
      "outputs": []
    },
    {
      "metadata": {
        "id": "ci6hVBb-v9dN"
      },
      "cell_type": "markdown",
      "source": [
        "少し応用して、自動的に敬称をつけて表示してみましょう。"
      ]
    },
    {
      "metadata": {
        "id": "B24Fyoe9v9dN"
      },
      "cell_type": "code",
      "source": [
        "for i in range(3):\n",
        "    print('{}さん'.format(names[i]))"
      ],
      "execution_count": null,
      "outputs": []
    },
    {
      "metadata": {
        "id": "msGhS1ISv9dN"
      },
      "cell_type": "markdown",
      "source": [
        "つぎに、さらに汎用性の高いプログラムを目指します。\n",
        "\n",
        "上記のコードに関して、汎用性が低い点として、`range(3)` のように `3` という値を直接記述していることが挙げられます。\n",
        "この `3` はリストの要素の数を意味していますが、リストの要素の数が変わると、このプログラムも書き換える必要があり、手間がかかったり、ミスが発生する原因となったりします。\n",
        "\n",
        "リスト内の要素の数は、組み込み関数である `len()` を用いて取得できるため、これを使用した汎用性の高いプログラムに書き換えましょう。"
      ]
    },
    {
      "metadata": {
        "id": "e4gbC4CIOzve"
      },
      "cell_type": "code",
      "source": [
        "len(names)"
      ],
      "execution_count": null,
      "outputs": []
    },
    {
      "metadata": {
        "id": "4i21QYMwPB1C"
      },
      "cell_type": "code",
      "source": [
        "for i in range(len(names)):\n",
        "    print('{}さん'.format(names[i]))"
      ],
      "execution_count": null,
      "outputs": []
    },
    {
      "metadata": {
        "id": "9wx-qJovPEC0"
      },
      "cell_type": "markdown",
      "source": [
        "これでリストの要素数に依存しないプログラムにすることができました。"
      ]
    },
    {
      "metadata": {
        "id": "KIO9gkUnv9dR"
      },
      "cell_type": "markdown",
      "source": [
        "また、リスト自体をイテラブルオブジェクトとして指定することにより、リスト要素数の取得も `[]` でのインデックス番号の指定もせずに、より可読性の高いプログラムを書くことができます。"
      ]
    },
    {
      "metadata": {
        "id": "EDqeGWucv9dR"
      },
      "cell_type": "code",
      "source": [
        "# リストをイテラブルオブジェクトに指定\n",
        "for name in names:\n",
        "    print('{}さん'.format(name))"
      ],
      "execution_count": null,
      "outputs": []
    },
    {
      "metadata": {
        "id": "iWEhrw_9v9dS"
      },
      "cell_type": "markdown",
      "source": [
        "最初のケースと比べていかがでしょうか。\n",
        "動作としては変わりがありませんが、可読性という観点も重要です。"
      ]
    },
    {
      "metadata": {
        "id": "WguFiYgqQnQT"
      },
      "cell_type": "markdown",
      "source": [
        "### 条件分岐（if 文）\n",
        "\n",
        "`if` は、指定した条件が `True` か `False` かによって、処理を変えるための制御構文です。\n",
        "\n",
        "![if文](https://github.com/chainer/tutorials/blob/master/ja/images/02/02_08.png?raw=1)"
      ]
    },
    {
      "metadata": {
        "id": "J-Z8g-Klv9dV"
      },
      "cell_type": "markdown",
      "source": [
        "`elif` と `else` は任意であり、`elif` は 1 つだけでなく複数連ねることができます。\n",
        "\n",
        "例えば、0 より大きいことを条件とした処理を書いてみます。"
      ]
    },
    {
      "metadata": {
        "id": "E-x_6gXwSsm7"
      },
      "cell_type": "code",
      "source": [
        "# if の条件を満たす場合\n",
        "a = 1\n",
        "\n",
        "if a > 0:\n",
        "    print('0より大きいです')\n",
        "else:\n",
        "    print('0以下です')"
      ],
      "execution_count": null,
      "outputs": []
    },
    {
      "metadata": {
        "id": "BmcHf-w5v9dV"
      },
      "cell_type": "code",
      "source": [
        "# if の条件を満たさない場合\n",
        "a = -1\n",
        "\n",
        "if a > 0:\n",
        "    print('0より大きいです')\n",
        "else:\n",
        "    print('0以下です')"
      ],
      "execution_count": null,
      "outputs": []
    },
    {
      "metadata": {
        "id": "u0F8tX6FStcQ"
      },
      "cell_type": "markdown",
      "source": [
        "また、`if` に対する条件以外の条件分岐を追加する場合は、下記のように `elif` を使います。"
      ]
    },
    {
      "metadata": {
        "id": "6li0UyjpStjg"
      },
      "cell_type": "code",
      "source": [
        "a = 0\n",
        "\n",
        "if a > 0:    \n",
        "    print('0より大きいです')\n",
        "elif a == 0:\n",
        "    print('０です')\n",
        "else:\n",
        "    print('0より小さいです')"
      ],
      "execution_count": null,
      "outputs": []
    },
    {
      "metadata": {
        "id": "tZ15Hv9Gv9dY"
      },
      "cell_type": "markdown",
      "source": [
        "### 繰り返し（while 文）\n",
        "\n",
        "繰り返し処理は、`for` 以外にも `while` を用いて記述することもできます。\n",
        "`while` 文では、以下のように**ループを継続する条件**を指定します。\n",
        "指定された条件文が `True` である限り、ブロックの部分に記述された処理が繰り返し実行されます。\n",
        "\n",
        "![while文](https://github.com/chainer/tutorials/blob/master/ja/images/02/02_09.png?raw=1)"
      ]
    },
    {
      "metadata": {
        "id": "Zjv8d3Rmv9dZ"
      },
      "cell_type": "markdown",
      "source": [
        "`while` 文を使用した 3 回繰り返すプログラムは下記のとおりです。"
      ]
    },
    {
      "metadata": {
        "id": "aFhfzaDFv9dZ"
      },
      "cell_type": "code",
      "source": [
        "count = 0\n",
        "\n",
        "while count < 3:\n",
        "    print(count)\n",
        "    count += 1"
      ],
      "execution_count": null,
      "outputs": []
    },
    {
      "metadata": {
        "id": "1Q3QReThv9da"
      },
      "cell_type": "markdown",
      "source": [
        "ここで使われている `count` という変数は、ループの中身が何回実行されたかを数えるために使われています。\n",
        "まず `0` で初期化し、ループ内の処理が一度行われるたびに `count` の値に 1 を足しています。\n",
        "この `count` を使った条件式を `while` 文に与えることで、ループを回したい回数を指定しています。\n",
        "\n",
        "一方、`while True` と指定すると、`True` は変数ではなく値なので、変更されることはなく、ループは無限に回り続けます。\n",
        "`while` 文自体は無限ループの状態にしておき、ループの中で `if` 文を使って、ある条件が満たされた場合はループを中断する、という使い方ができます。\n",
        "これには `break` 文が用いられます。\n",
        "\n",
        "以下は、`break` 文を使って上のコードと同様に 3 回ループを回すコードです。"
      ]
    },
    {
      "metadata": {
        "id": "wj65vycFv9da"
      },
      "cell_type": "code",
      "source": [
        "count = 0\n",
        "\n",
        "while True:\n",
        "    print(count)\n",
        "    count += 1\n",
        "    \n",
        "    if count == 3:\n",
        "        break"
      ],
      "execution_count": null,
      "outputs": []
    },
    {
      "metadata": {
        "id": "AQFnBfgEv9da"
      },
      "cell_type": "markdown",
      "source": [
        "`count` の値が 3 と等しいかどうかが毎回チェックされ、等しくなっていれば `break` 文が実行されて `while` ループが終了します。"
      ]
    },
    {
      "metadata": {
        "id": "2rtEn2APv9db"
      },
      "cell_type": "markdown",
      "source": [
        "`while` 文を使って、指定された条件を満たして**いない**間ループを繰り返すという処理も書くことができます。`while` 文自体の使い方は同じですが、条件を反転して与えることで、与えた条件が `False` である間繰り返されるようにすることができます。\n",
        "\n",
        "これには、ブール値を反転する `not` を用います。\n",
        "`not True` は `False` を返し、`not False` は `True` を返します。"
      ]
    },
    {
      "metadata": {
        "id": "0PucNNA0v9db"
      },
      "cell_type": "code",
      "source": [
        "not True"
      ],
      "execution_count": null,
      "outputs": []
    },
    {
      "metadata": {
        "id": "9iX7JkEOv9db"
      },
      "cell_type": "code",
      "source": [
        "not False"
      ],
      "execution_count": null,
      "outputs": []
    },
    {
      "metadata": {
        "id": "TkSUZ1iZv9dc"
      },
      "cell_type": "code",
      "source": [
        "not 1 == 2"
      ],
      "execution_count": null,
      "outputs": []
    },
    {
      "metadata": {
        "id": "0aM2yZ7qv9dd"
      },
      "cell_type": "markdown",
      "source": [
        "このように、`not` はあとに続くブール値を反転します。\n",
        "これを用いて、`count` が 3 **ではない**限りループを繰り返すというコードを `while` 文を使って書いてみましょう。"
      ]
    },
    {
      "metadata": {
        "id": "vhvBNYCXv9dd"
      },
      "cell_type": "code",
      "source": [
        "count = 0\n",
        "\n",
        "while not count == 3:\n",
        "    print(count)\n",
        "    count += 1"
      ],
      "execution_count": null,
      "outputs": []
    },
    {
      "cell_type": "code",
      "source": [
        "# よくないプログラム\n",
        "\n",
        "import time\n",
        "while True:\n",
        "  print('無限ループの例。左の停止ボタンで停止させてください')\n",
        "  time.sleep(1)\n",
        "\n",
        "print('この行には永遠に到達しない！')"
      ],
      "metadata": {
        "id": "GX89KRZlIlvX"
      },
      "execution_count": null,
      "outputs": []
    },
    {
      "metadata": {
        "id": "e96zsBv7IfDn"
      },
      "cell_type": "markdown",
      "source": [
        "## 関数\n",
        "\n",
        "何かひとまとまりの処理を書いた際には、その処理のためのコードをまとめて、プログラム全体の色々な箇所から再利用できるようにしておくと、便利な場合があります。\n",
        "ここでは、処理をひとまとめにする方法の一つとして**関数 (function)** を定義する方法を紹介します。"
      ]
    },
    {
      "metadata": {
        "id": "RCB98_8xv9df"
      },
      "cell_type": "markdown",
      "source": [
        "### 関数を定義する\n",
        "\n",
        "![関数の定義](https://github.com/chainer/tutorials/blob/master/ja/images/02/02_10.png?raw=1)\n",
        "\n",
        "例えば、**受け取った値を 2 倍して表示する関数**を作ってみましょう。\n",
        "\n",
        "関数を定義するには、まず名前を決める必要があります。\n",
        "今回は `double()` という名前の関数を定義してみます。\n",
        "\n",
        "関数も制御構文と同じく**ヘッダー**と**ブロック**を持っています。"
      ]
    },
    {
      "metadata": {
        "id": "iDh3Mpi_IfDp"
      },
      "cell_type": "code",
      "source": [
        "# 関数 double() の定義\n",
        "def double(x):\n",
        "    return 2 * x"
      ],
      "execution_count": null,
      "outputs": []
    },
    {
      "cell_type": "code",
      "source": [
        "# 書いてみよう"
      ],
      "metadata": {
        "id": "8WWl_ULcOKXR"
      },
      "execution_count": null,
      "outputs": []
    },
    {
      "metadata": {
        "id": "yG-qN405v9dg"
      },
      "cell_type": "markdown",
      "source": [
        "**関数は定義されただけでは実行されません。**\n",
        "定義した関数を使用するためには、定義を行うコードとは別に、実行を行うコードが必要です。"
      ]
    },
    {
      "metadata": {
        "id": "6QUecRiUv9dg"
      },
      "cell_type": "code",
      "source": [
        "# 関数の実行\n",
        "output = double(3)\n",
        "print(output)"
      ],
      "execution_count": null,
      "outputs": []
    },
    {
      "metadata": {
        "id": "wjStuxcBv9di"
      },
      "cell_type": "code",
      "source": [
        "double(1.5)"
      ],
      "execution_count": null,
      "outputs": []
    },
    {
      "metadata": {
        "id": "CRggp-QcIfDs"
      },
      "cell_type": "markdown",
      "source": [
        "`double(x)` における `x` のように、関数に渡される変数や値のことを**引数 (argument)** といいます。\n",
        "上の例は、名前が `double` で、1つの引数 `x` をとり、`2 * x` という計算を行い、その結果を表示しています。"
      ]
    },
    {
      "cell_type": "markdown",
      "source": [
        "#練習問題\n",
        "##モンテカルロ法による円周率の推定 \n",
        "(http://yay.cla.kobe-u.ac.jp/~jm/edu/2016/PB/python3/python3ex01.html)  \n",
        "![image](https://upload.wikimedia.org/wikipedia/commons/thumb/8/84/Pi_30K.gif/220px-Pi_30K.gif)  \n",
        "モンテカルロ・シミュレーションは、コンピュータ上で仮想的に実験をしてみて、そこから結果を求める問題の解き方です。ここでは円周率を求めてみましょう。\n",
        "一辺の長さが１の正方形に半径１の四分の１円が入っているとします。この中に、次々とダーツを投げて円の中に入った数を勘定します。投げるダーツの内で円の中に入るダーツの個数の割合は、正方形の面積と四分の一円の面積の割合と同じです。つまり、  \n",
        "$円の中に入ったダーツの数(n_c)／投げたダーツの総数(n) = 四分の１円の面積／正方形の面積$  \n",
        "です。沢山、ダーツを投げれば投げるほどこの値は一定になります。これを使って円周率を求めることができます。  \n",
        "$π = 4n_c / n$  \n",
        "となるからです。ダーツを投げるには乱数を使います。(つまり、`import random`が必要です。)  \n",
        "`random.random() --- [0.0,1.0]の範囲の浮動小数点数を生成`  \n",
        "投げたダーツが正方形の中に落ちる位置`(x,y)`をそれぞれ乱数で与えます。そして、$x^2 + y^2$ が1より小さければ、円の中に落ちたということになるので、`nc`を1増やします。ダーツを投げる回数を入力して、円周率を求めるプログラムを作りなさい。"
      ],
      "metadata": {
        "id": "_Ur_LdoaclXi"
      }
    },
    {
      "cell_type": "code",
      "source": [
        "# randomモジュールをインポートしましょう\n",
        "# 一度インポートすれば以降のセルでも使えます\n",
        "import random"
      ],
      "metadata": {
        "id": "AmcAXpYHcklj"
      },
      "execution_count": null,
      "outputs": []
    },
    {
      "cell_type": "code",
      "source": [
        "# random.random()がどのような値を返却するか何度か実行して確認してください\n",
        "random.random()"
      ],
      "metadata": {
        "id": "WEaeUKwAgnwU"
      },
      "execution_count": null,
      "outputs": []
    },
    {
      "cell_type": "code",
      "source": [
        "n = 100000\n",
        "nc = 0\n",
        "\n",
        "for i in range(n):\n",
        "  # x, y座標を生成する処理\n",
        "  \n",
        "  # ダーツが円の中に入ったか判定する処理\n",
        "\n",
        "  # もし円の中ならncを1増やす処理\n",
        "\n",
        "pi = \n",
        "print(pi)"
      ],
      "metadata": {
        "id": "DT-4UM60g6_c"
      },
      "execution_count": null,
      "outputs": []
    },
    {
      "cell_type": "code",
      "source": [
        "# 関数にしてみましょう\n",
        "def calc_pi(n):\n",
        "\n",
        "\n",
        "  \n",
        "  return pi"
      ],
      "metadata": {
        "id": "DBsMX2lbkHnK"
      },
      "execution_count": null,
      "outputs": []
    },
    {
      "cell_type": "code",
      "source": [
        "# nを変えて実験してみよう\n",
        "calc_pi(1000000)"
      ],
      "metadata": {
        "id": "OFain4wUkROo"
      },
      "execution_count": null,
      "outputs": []
    }
  ]
}